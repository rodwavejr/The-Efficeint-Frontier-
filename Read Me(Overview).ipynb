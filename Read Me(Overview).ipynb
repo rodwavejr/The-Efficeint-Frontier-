{
 "cells": [
  {
   "attachments": {},
   "cell_type": "markdown",
   "metadata": {},
   "source": [
    "The Efficient Frontier is a cornerstone concept from Modern Portfolio Theory, first introduced by Harry Markowitz in 1952. Markowitz's revolutionary theory, which earned him a Nobel Prize, changed the landscape of finance and investing. It argues that it's insufficient to look only at the expected risk and return of a single stock. By investing in more than one stock, investors can enjoy the benefits of diversification. The crux lies in identifying stocks that behave differently from each other.\n",
    "\n",
    "Now, onto the Code.\n",
    "\n",
    "This Code is akin to a control panel for managing a portfolio of stocks. It uses historical stock price data to estimate future behaviour – a common practice in finance.\n",
    "\n",
    "Breaking down the key components:\n",
    "\n",
    "Data Gathering: The getData function ventures out to gather critical information about our chosen stocks, retrieving data like closing prices, returns, and covariance.\n",
    "\n",
    "Portfolio Performance Calculation: The portfolioPerformance function is where we take the weights of our assets (how much we're investing in each stock) and calculate two crucial metrics: the expected portfolio returns and its standard deviation, which is a common measure of risk.\n",
    "\n",
    "Sharpe Ratio Optimization: This is where we strive to achieve the ideal scenario in investing: the highest possible return for the lowest possible risk. The Sharpe ratio, named after another Nobel laureate, William Sharpe, measures risk-adjusted return. A higher Sharpe ratio implies better performance when adjusting for risk. The maxSharpe function seeks the optimal weights that maximize this ratio.\n",
    "\n",
    "Risk Minimization: While striving for high returns is essential, ensuring a minimum level of risk is equally vital. The minVariance function minimizes the portfolio's risk by adjusting the weights, providing a balance to the pursuit of high returns.\n",
    "\n",
    "Efficient Frontier Calculation: The efficientOpt function plots the Efficient Frontier, which visualizes the maximum possible return for each level of risk. It allows investors to make informed decisions on risk-return trade-offs.\n",
    "\n",
    "In essence, this code helps navigate the complex world of stock investing. The Efficient Frontier is our roadmap, guiding us towards optimal decisions that balance risk and return. Each function plays a key role in achieving our ultimate financial goal."
   ]
  },
  {
   "attachments": {},
   "cell_type": "markdown",
   "metadata": {},
   "source": [
    "**Importing Libraries:** The code begins by importing various Python libraries which contain functions and methods used in the rest of the code. For example, numpy for mathematical operations, pandas for data manipulation, scipy.optimize for optimization routines, datetime for working with dates and times, yfinance for getting stock data, and plotly.graph_objects for creating graphs."
   ]
  },
  {
   "cell_type": "code",
   "execution_count": null,
   "metadata": {},
   "outputs": [],
   "source": [
    "import numpy as np \n",
    "import pandas as pd\n",
    "import scipy.optimize as sc \n",
    "import datetime as dt\n",
    "from pandas_datareader import data as pdr\n",
    "import yfinance as yf\n",
    "yf.pdr_override()\n",
    "import plotly.graph_objects as go"
   ]
  },
  {
   "attachments": {},
   "cell_type": "markdown",
   "metadata": {},
   "source": [
    "**Data Gathering**: The function getData(stocks, start, end) uses pdr.get_data_yahoo(stocks, start=start, end=end) to get data from Yahoo Finance for a given list of stocks between a start and end date. This function calculates and returns the mean return and covariance matrix for these stocks."
   ]
  },
  {
   "attachments": {},
   "cell_type": "markdown",
   "metadata": {},
   "source": [
    "**Portfolio Performance and Sharpe Ratio:** The function portfolioPerformance(weights,meanReturns, covMatrix) calculates and returns the annualized return and standard deviation (risk) for a portfolio with given weights. The function negSharpe(weights, meanReturns, covMatrix, riskFreeRate = 0) computes the negative Sharpe ratio for a portfolio. The Sharpe ratio is a measure of how much excess return you are receiving for the extra volatility that you endure for holding a riskier asset. Here, a negative Sharpe ratio is used so that we can \"minimize\" to find the maximum Sharpe ratio later on."
   ]
  },
  {
   "attachments": {},
   "cell_type": "markdown",
   "metadata": {},
   "source": [
    "**Optimizing for Maximum Sharpe Ratio and Minimum Variance:** The functions maxSharpe(meanReturns, covMatrix, riskFreeRate = 0, constraintSet=(0,1)) and minVariance(meanReturns, covMatrix, constraintSet=(0,1)) utilize scipy's minimize function to find the weights that maximize the Sharpe ratio and minimize the portfolio variance, respectively. These functions utilize a method known as Sequential Least Squares Programming (SLSQP) for the minimization, which is a type of numerical optimization method."
   ]
  },
  {
   "attachments": {},
   "cell_type": "markdown",
   "metadata": {},
   "source": [
    "**Efficient Frontier Calculation:** The function efficientOpt(meanReturns, covMatrix, returnTarget,constraintSet=(0,1)) generates the efficient frontier by optimizing the portfolio for minimum variance for a range of return targets."
   ]
  },
  {
   "attachments": {},
   "cell_type": "markdown",
   "metadata": {},
   "source": [
    "**Result Calculation and Plotting:** The function calculatedResults(meanReturns, covMatrix, riskFreeRate = 0, constraintSet=(0,1)) collects all of the results. The function TheEfficentFrontier(meanReturns, covMatrix, riskFreeRate = 0, constraintSet=(0,1)) visualizes the maximum Sharpe ratio portfolio, the minimum volatility portfolio, and the efficient frontier."
   ]
  },
  {
   "cell_type": "code",
   "execution_count": null,
   "metadata": {},
   "outputs": [],
   "source": [
    "Oluwaseminire_Babafemi = (\"Qauntitative Researcher\")\n",
    "print(Oluwaseminire_Babafemi)"
   ]
  }
 ],
 "metadata": {
  "kernelspec": {
   "display_name": "Python 3",
   "language": "python",
   "name": "python3"
  },
  "language_info": {
   "codemirror_mode": {
    "name": "ipython",
    "version": 3
   },
   "file_extension": ".py",
   "mimetype": "text/x-python",
   "name": "python",
   "nbconvert_exporter": "python",
   "pygments_lexer": "ipython3",
   "version": "3.10.11"
  },
  "orig_nbformat": 4
 },
 "nbformat": 4,
 "nbformat_minor": 2
}
